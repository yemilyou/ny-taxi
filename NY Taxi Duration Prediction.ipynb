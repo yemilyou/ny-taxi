{
 "cells": [
  {
   "cell_type": "code",
   "execution_count": 1,
   "metadata": {},
   "outputs": [],
   "source": [
    "# Import necessary packages\n",
    "import numpy as np\n",
    "import pandas as pd\n",
    "import matplotlib.pyplot as plt\n",
    "%matplotlib inline\n",
    "import seaborn as sns"
   ]
  },
  {
   "cell_type": "markdown",
   "metadata": {},
   "source": [
    "## Data Selection & Cleaning"
   ]
  },
  {
   "cell_type": "code",
   "execution_count": 2,
   "metadata": {},
   "outputs": [
    {
     "data": {
      "text/html": [
       "<div>\n",
       "<style scoped>\n",
       "    .dataframe tbody tr th:only-of-type {\n",
       "        vertical-align: middle;\n",
       "    }\n",
       "\n",
       "    .dataframe tbody tr th {\n",
       "        vertical-align: top;\n",
       "    }\n",
       "\n",
       "    .dataframe thead th {\n",
       "        text-align: right;\n",
       "    }\n",
       "</style>\n",
       "<table border=\"1\" class=\"dataframe\">\n",
       "  <thead>\n",
       "    <tr style=\"text-align: right;\">\n",
       "      <th></th>\n",
       "      <th>pickup_datetime</th>\n",
       "      <th>dropoff_datetime</th>\n",
       "      <th>pickup_lon</th>\n",
       "      <th>pickup_lat</th>\n",
       "      <th>dropoff_lon</th>\n",
       "      <th>dropoff_lat</th>\n",
       "      <th>passengers</th>\n",
       "      <th>distance</th>\n",
       "      <th>duration</th>\n",
       "    </tr>\n",
       "  </thead>\n",
       "  <tbody>\n",
       "    <tr>\n",
       "      <th>0</th>\n",
       "      <td>2016-01-30 22:47:32</td>\n",
       "      <td>2016-01-30 23:03:53</td>\n",
       "      <td>-73.988251</td>\n",
       "      <td>40.743542</td>\n",
       "      <td>-74.015251</td>\n",
       "      <td>40.709808</td>\n",
       "      <td>1</td>\n",
       "      <td>3.99</td>\n",
       "      <td>981</td>\n",
       "    </tr>\n",
       "    <tr>\n",
       "      <th>1</th>\n",
       "      <td>2016-01-04 04:30:48</td>\n",
       "      <td>2016-01-04 04:36:08</td>\n",
       "      <td>-73.995888</td>\n",
       "      <td>40.760010</td>\n",
       "      <td>-73.975388</td>\n",
       "      <td>40.782200</td>\n",
       "      <td>1</td>\n",
       "      <td>2.03</td>\n",
       "      <td>320</td>\n",
       "    </tr>\n",
       "    <tr>\n",
       "      <th>2</th>\n",
       "      <td>2016-01-07 21:52:24</td>\n",
       "      <td>2016-01-07 21:57:23</td>\n",
       "      <td>-73.990440</td>\n",
       "      <td>40.730469</td>\n",
       "      <td>-73.985542</td>\n",
       "      <td>40.738510</td>\n",
       "      <td>1</td>\n",
       "      <td>0.70</td>\n",
       "      <td>299</td>\n",
       "    </tr>\n",
       "    <tr>\n",
       "      <th>3</th>\n",
       "      <td>2016-01-01 04:13:41</td>\n",
       "      <td>2016-01-01 04:19:24</td>\n",
       "      <td>-73.944725</td>\n",
       "      <td>40.714539</td>\n",
       "      <td>-73.955421</td>\n",
       "      <td>40.719173</td>\n",
       "      <td>1</td>\n",
       "      <td>0.80</td>\n",
       "      <td>343</td>\n",
       "    </tr>\n",
       "    <tr>\n",
       "      <th>4</th>\n",
       "      <td>2016-01-08 18:46:10</td>\n",
       "      <td>2016-01-08 18:54:00</td>\n",
       "      <td>-74.004494</td>\n",
       "      <td>40.706989</td>\n",
       "      <td>-74.010155</td>\n",
       "      <td>40.716751</td>\n",
       "      <td>5</td>\n",
       "      <td>0.97</td>\n",
       "      <td>470</td>\n",
       "    </tr>\n",
       "  </tbody>\n",
       "</table>\n",
       "</div>"
      ],
      "text/plain": [
       "       pickup_datetime     dropoff_datetime  pickup_lon  pickup_lat  \\\n",
       "0  2016-01-30 22:47:32  2016-01-30 23:03:53  -73.988251   40.743542   \n",
       "1  2016-01-04 04:30:48  2016-01-04 04:36:08  -73.995888   40.760010   \n",
       "2  2016-01-07 21:52:24  2016-01-07 21:57:23  -73.990440   40.730469   \n",
       "3  2016-01-01 04:13:41  2016-01-01 04:19:24  -73.944725   40.714539   \n",
       "4  2016-01-08 18:46:10  2016-01-08 18:54:00  -74.004494   40.706989   \n",
       "\n",
       "   dropoff_lon  dropoff_lat  passengers  distance  duration  \n",
       "0   -74.015251    40.709808           1      3.99       981  \n",
       "1   -73.975388    40.782200           1      2.03       320  \n",
       "2   -73.985542    40.738510           1      0.70       299  \n",
       "3   -73.955421    40.719173           1      0.80       343  \n",
       "4   -74.010155    40.716751           5      0.97       470  "
      ]
     },
     "execution_count": 2,
     "metadata": {},
     "output_type": "execute_result"
    }
   ],
   "source": [
    "# Select data in NY\n",
    "\n",
    "import sqlite3\n",
    "connect = sqlite3.connect('taxi.db')\n",
    "\n",
    "# Boundaries of NY\n",
    "lon_bounds = [-74.03, -73.75]\n",
    "lat_bounds = [40.6, 40.88]\n",
    "\n",
    "SQL_Query= pd.read_sql_query('''SELECT pickup_datetime,dropoff_datetime,pickup_lon,pickup_lat,dropoff_lon,dropoff_lat,passengers,distance,duration\n",
    "FROM taxi WHERE (pickup_lon BETWEEN -74.03 AND -73.75) AND (pickup_lat BETWEEN 40.6 AND 40.88) \n",
    "AND (dropoff_lon BETWEEN -74.03 AND -73.75 ) AND (dropoff_lat BETWEEN 40.6 AND 40.88)''',connect)\n",
    "\n",
    "taxi_rides = pd.DataFrame(SQL_Query)\n",
    "taxi_rides.head()"
   ]
  },
  {
   "cell_type": "code",
   "execution_count": 3,
   "metadata": {},
   "outputs": [],
   "source": [
    "# Clean data\n",
    "# Positive pax count, positive distance\n",
    "taxi = taxi_rides[(taxi_rides['passengers']>0) & (taxi_rides['distance']>0)]"
   ]
  },
  {
   "cell_type": "code",
   "execution_count": 4,
   "metadata": {},
   "outputs": [
    {
     "data": {
      "image/png": "[encoded data removed]",
      "text/plain": [
       "<Figure size 432x288 with 1 Axes>"
      ]
     },
     "metadata": {
      "needs_background": "light"
     },
     "output_type": "display_data"
    }
   ],
   "source": [
    "# See distribution of duration\n",
    "sns.distplot(taxi['duration']);"
   ]
  },
  {
   "cell_type": "code",
   "execution_count": 5,
   "metadata": {},
   "outputs": [
    {
     "data": {
      "image/png": "[encoded data removed]",
      "text/plain": [
       "<Figure size 432x288 with 1 Axes>"
      ]
     },
     "metadata": {
      "needs_background": "light"
     },
     "output_type": "display_data"
    }
   ],
   "source": [
    "# Remove duration outliers - at least 1 minute, at max 1 hour\n",
    "taxi = taxi[(taxi['duration']<=60*60)&(taxi['duration']>=60)]\n",
    "sns.distplot(taxi['duration']);"
   ]
  },
  {
   "cell_type": "code",
   "execution_count": 6,
   "metadata": {},
   "outputs": [
    {
     "data": {
      "image/png": "[encoded data removed]",
      "text/plain": [
       "<Figure size 432x288 with 1 Axes>"
      ]
     },
     "metadata": {
      "needs_background": "light"
     },
     "output_type": "display_data"
    }
   ],
   "source": [
    "# Check average speed\n",
    "sns.distplot(taxi['distance']/(taxi['duration']/3600));"
   ]
  },
  {
   "cell_type": "code",
   "execution_count": 7,
   "metadata": {},
   "outputs": [
    {
     "data": {
      "image/png": "[encoded data removed]",
      "text/plain": [
       "<Figure size 432x288 with 1 Axes>"
      ]
     },
     "metadata": {
      "needs_background": "light"
     },
     "output_type": "display_data"
    }
   ],
   "source": [
    "# Remove outliers\n",
    "taxi = taxi[(taxi['distance']/(taxi['duration']/3600))<=100]\n",
    "sns.distplot(taxi['distance']/(taxi['duration']/3600));"
   ]
  },
  {
   "cell_type": "code",
   "execution_count": 9,
   "metadata": {},
   "outputs": [],
   "source": [
    "# Select points that are in Manhattan area\n",
    "# shape stores latitudes and longitudes of Manhattan\n",
    "shape = pd.read_csv('manhattan_shape.csv')"
   ]
  },
  {
   "cell_type": "code",
   "execution_count": 194,
   "metadata": {},
   "outputs": [],
   "source": [
    "# Function that determines whether lat,long is in Manhattan\n",
    "manhattan_lat = shape['lat']\n",
    "manhattan_lon = shape['lon']\n",
    "def manhattan(lat,lon):\n",
    "    corners = shape.shape[0]\n",
    "    insideShape = False\n",
    "    j = corners-1\n",
    "    i = 0\n",
    "    while i<corners:\n",
    "        if ((manhattan_lon[i]<=lon) or (manhattan_lon[j]<=lon)) and (((manhattan_lat[i]<lat) and (manhattan_lat[j]>=lat)) or ((manhattan_lat[j]<lat) and (manhattan_lat[i]>=lat))):\n",
    "            if manhattan_lon[i]+(lat-manhattan_lat[i])*(manhattan_lon[j]-manhattan_lon[i])/(manhattan_lat[j]-manhattan_lat[i])<lon:\n",
    "                insideShape = not insideShape\n",
    "        j = i\n",
    "        i += 1\n",
    "    return insideShape"
   ]
  },
  {
   "cell_type": "code",
   "execution_count": 196,
   "metadata": {},
   "outputs": [],
   "source": [
    "pu=taxi[['pickup_lon','pickup_lat']].apply(lambda x: manhattan(x['pickup_lat'],x['pickup_lon']),axis=1)\n",
    "do=taxi[['dropoff_lat','dropoff_lon']].apply(lambda x: manhattan(x['dropoff_lat'],x['dropoff_lon']),axis=1)\n",
    "manhattan_pu = taxi[pu]\n",
    "manhattan_do = taxi[do]"
   ]
  },
  {
   "cell_type": "code",
   "execution_count": 197,
   "metadata": {},
   "outputs": [],
   "source": [
    "# Both pickups and dropoffs in Manhattan\n",
    "manhattan_taxi = taxi[pu & do]"
   ]
  },
  {
   "cell_type": "code",
   "execution_count": 200,
   "metadata": {},
   "outputs": [
    {
     "data": {
      "image/png": "[encoded data removed]",
      "text/plain": [
       "<Figure size 360x360 with 1 Axes>"
      ]
     },
     "metadata": {
      "needs_background": "light"
     },
     "output_type": "display_data"
    }
   ],
   "source": [
    "# Take a look at geographical locations of pickups\n",
    "def geo_viewer(df):\n",
    "    plt.scatter(df['pickup_lon'], df['pickup_lat'], s=2, alpha = 0.3)\n",
    "    plt.xlabel('Longitude')\n",
    "    plt.ylabel('Latitude')\n",
    "    plt.title('Pickups')\n",
    "\n",
    "plt.figure(figsize=(5, 5))\n",
    "geo_viewer(manhattan_taxi)"
   ]
  },
  {
   "cell_type": "markdown",
   "metadata": {},
   "source": [
    "## Exploratory Data Analysis"
   ]
  },
  {
   "cell_type": "code",
   "execution_count": 40,
   "metadata": {},
   "outputs": [
    {
     "name": "stderr",
     "output_type": "stream",
     "text": [
      "C:\\Users\\nacho\\anaconda3\\lib\\site-packages\\ipykernel_launcher.py:2: SettingWithCopyWarning: \n",
      "A value is trying to be set on a copy of a slice from a DataFrame.\n",
      "Try using .loc[row_indexer,col_indexer] = value instead\n",
      "\n",
      "See the caveats in the documentation: https://pandas.pydata.org/pandas-docs/stable/user_guide/indexing.html#returning-a-view-versus-a-copy\n",
      "  \n",
      "C:\\Users\\nacho\\anaconda3\\lib\\site-packages\\ipykernel_launcher.py:3: SettingWithCopyWarning: \n",
      "A value is trying to be set on a copy of a slice from a DataFrame.\n",
      "Try using .loc[row_indexer,col_indexer] = value instead\n",
      "\n",
      "See the caveats in the documentation: https://pandas.pydata.org/pandas-docs/stable/user_guide/indexing.html#returning-a-view-versus-a-copy\n",
      "  This is separate from the ipykernel package so we can avoid doing imports until\n"
     ]
    }
   ],
   "source": [
    "# Create datetime column for pickup\n",
    "manhattan_taxi['pu'] = pd.to_datetime(manhattan_taxi['pickup_datetime'])\n",
    "manhattan_taxi['date'] = manhattan_taxi['pu'].apply(lambda x:x.date())"
   ]
  },
  {
   "cell_type": "code",
   "execution_count": 59,
   "metadata": {},
   "outputs": [
    {
     "data": {
      "image/png": "[encoded data removed]",
      "text/plain": [
       "<Figure size 1008x360 with 1 Axes>"
      ]
     },
     "metadata": {
      "needs_background": "light"
     },
     "output_type": "display_data"
    }
   ],
   "source": [
    "# See average durations across different dates\n",
    "plt.figure(figsize=(14,5))\n",
    "grouped = manhattan_taxi.groupby('date').mean()\n",
    "ax = sns.barplot(x=grouped.index,y=grouped['duration'])\n",
    "ax.set_xticklabels(ax.get_xticklabels(),rotation=90)\n",
    "plt.title('Duration of Manhattan Rides in January, 2016')\n",
    "plt.show()"
   ]
  },
  {
   "cell_type": "code",
   "execution_count": 60,
   "metadata": {},
   "outputs": [],
   "source": [
    "# Take out dates that are likely to have different number of rides than usual\n",
    "# New year's, blizzard in 2016\n",
    "from datetime import date\n",
    "exceptions = [1,2,3,23,24,25]\n",
    "exception_dates = [date(2016,1,i) for i in exceptions]\n",
    "taxi_cleaned = manhattan_taxi[~manhattan_taxi['date'].isin(exception_dates)]"
   ]
  },
  {
   "cell_type": "markdown",
   "metadata": {},
   "source": [
    "## Feature Engineering"
   ]
  },
  {
   "cell_type": "code",
   "execution_count": 120,
   "metadata": {},
   "outputs": [],
   "source": [
    "# Split train vs. test set\n",
    "import sklearn.model_selection\n",
    "train, test = sklearn.model_selection.train_test_split(taxi_cleaned, train_size=0.8, test_size=0.2, random_state=0)"
   ]
  },
  {
   "cell_type": "code",
   "execution_count": 121,
   "metadata": {},
   "outputs": [
    {
     "data": {
      "image/png": "[encoded data removed]",
      "text/plain": [
       "<Figure size 864x360 with 1 Axes>"
      ]
     },
     "metadata": {
      "needs_background": "light"
     },
     "output_type": "display_data"
    }
   ],
   "source": [
    "# See distribution of duration\n",
    "plt.figure(figsize=(12,5))\n",
    "ax = sns.boxplot(x='date',y='duration',data=train.sort_values('date'))\n",
    "plt.title('Distribution of Duration vs. Date')\n",
    "ax.set_xticklabels(ax.get_xticklabels(),rotation=90)\n",
    "plt.show()"
   ]
  },
  {
   "cell_type": "code",
   "execution_count": 122,
   "metadata": {},
   "outputs": [],
   "source": [
    "# Function for adding extra columns\n",
    "def add_cols(df):\n",
    "    df_copy = df.copy()\n",
    "    df_copy.loc[:, 'hour'] = df_copy['pu'].dt.hour\n",
    "    df_copy.loc[:, 'day'] = df_copy['pu'].dt.weekday\n",
    "    df_copy.loc[:, 'weekend'] = (df_copy['day'] >= 5).astype(int)\n",
    "    # Split hour into 3 bins\n",
    "    df_copy.loc[:, 'period'] = np.digitize(df_copy['hour'], [0, 6, 18])\n",
    "    df_copy.loc[:, 'speed'] = df_copy['distance'] / df_copy['duration'] * 60 * 60\n",
    "    return df_copy"
   ]
  },
  {
   "cell_type": "code",
   "execution_count": 123,
   "metadata": {},
   "outputs": [
    {
     "data": {
      "text/html": [
       "<div>\n",
       "<style scoped>\n",
       "    .dataframe tbody tr th:only-of-type {\n",
       "        vertical-align: middle;\n",
       "    }\n",
       "\n",
       "    .dataframe tbody tr th {\n",
       "        vertical-align: top;\n",
       "    }\n",
       "\n",
       "    .dataframe thead th {\n",
       "        text-align: right;\n",
       "    }\n",
       "</style>\n",
       "<table border=\"1\" class=\"dataframe\">\n",
       "  <thead>\n",
       "    <tr style=\"text-align: right;\">\n",
       "      <th></th>\n",
       "      <th>pickup_datetime</th>\n",
       "      <th>dropoff_datetime</th>\n",
       "      <th>pickup_lon</th>\n",
       "      <th>pickup_lat</th>\n",
       "      <th>dropoff_lon</th>\n",
       "      <th>dropoff_lat</th>\n",
       "      <th>passengers</th>\n",
       "      <th>distance</th>\n",
       "      <th>duration</th>\n",
       "      <th>date</th>\n",
       "      <th>pu</th>\n",
       "      <th>hour</th>\n",
       "      <th>day</th>\n",
       "      <th>weekend</th>\n",
       "      <th>period</th>\n",
       "      <th>speed</th>\n",
       "    </tr>\n",
       "  </thead>\n",
       "  <tbody>\n",
       "    <tr>\n",
       "      <th>48097</th>\n",
       "      <td>2016-01-26 21:41:50</td>\n",
       "      <td>2016-01-26 21:46:54</td>\n",
       "      <td>-73.991463</td>\n",
       "      <td>40.750259</td>\n",
       "      <td>-73.999443</td>\n",
       "      <td>40.738991</td>\n",
       "      <td>2</td>\n",
       "      <td>0.90</td>\n",
       "      <td>304</td>\n",
       "      <td>2016-01-26</td>\n",
       "      <td>2016-01-26 21:41:50</td>\n",
       "      <td>21</td>\n",
       "      <td>1</td>\n",
       "      <td>0</td>\n",
       "      <td>3</td>\n",
       "      <td>10.657895</td>\n",
       "    </tr>\n",
       "    <tr>\n",
       "      <th>67054</th>\n",
       "      <td>2016-01-06 14:04:49</td>\n",
       "      <td>2016-01-06 14:15:47</td>\n",
       "      <td>-73.985153</td>\n",
       "      <td>40.724312</td>\n",
       "      <td>-73.996109</td>\n",
       "      <td>40.721199</td>\n",
       "      <td>1</td>\n",
       "      <td>0.90</td>\n",
       "      <td>658</td>\n",
       "      <td>2016-01-06</td>\n",
       "      <td>2016-01-06 14:04:49</td>\n",
       "      <td>14</td>\n",
       "      <td>2</td>\n",
       "      <td>0</td>\n",
       "      <td>2</td>\n",
       "      <td>4.924012</td>\n",
       "    </tr>\n",
       "    <tr>\n",
       "      <th>74769</th>\n",
       "      <td>2016-01-15 07:27:42</td>\n",
       "      <td>2016-01-15 07:42:20</td>\n",
       "      <td>-73.984848</td>\n",
       "      <td>40.736263</td>\n",
       "      <td>-73.980537</td>\n",
       "      <td>40.763775</td>\n",
       "      <td>1</td>\n",
       "      <td>2.50</td>\n",
       "      <td>878</td>\n",
       "      <td>2016-01-15</td>\n",
       "      <td>2016-01-15 07:27:42</td>\n",
       "      <td>7</td>\n",
       "      <td>4</td>\n",
       "      <td>0</td>\n",
       "      <td>2</td>\n",
       "      <td>10.250569</td>\n",
       "    </tr>\n",
       "    <tr>\n",
       "      <th>6659</th>\n",
       "      <td>2016-01-13 19:59:47</td>\n",
       "      <td>2016-01-13 20:04:12</td>\n",
       "      <td>-73.977882</td>\n",
       "      <td>40.751259</td>\n",
       "      <td>-73.980026</td>\n",
       "      <td>40.748573</td>\n",
       "      <td>1</td>\n",
       "      <td>0.50</td>\n",
       "      <td>265</td>\n",
       "      <td>2016-01-13</td>\n",
       "      <td>2016-01-13 19:59:47</td>\n",
       "      <td>19</td>\n",
       "      <td>2</td>\n",
       "      <td>0</td>\n",
       "      <td>3</td>\n",
       "      <td>6.792453</td>\n",
       "    </tr>\n",
       "    <tr>\n",
       "      <th>76571</th>\n",
       "      <td>2016-01-14 10:36:45</td>\n",
       "      <td>2016-01-14 10:41:57</td>\n",
       "      <td>-73.981644</td>\n",
       "      <td>40.762459</td>\n",
       "      <td>-73.989738</td>\n",
       "      <td>40.751476</td>\n",
       "      <td>1</td>\n",
       "      <td>0.95</td>\n",
       "      <td>312</td>\n",
       "      <td>2016-01-14</td>\n",
       "      <td>2016-01-14 10:36:45</td>\n",
       "      <td>10</td>\n",
       "      <td>3</td>\n",
       "      <td>0</td>\n",
       "      <td>2</td>\n",
       "      <td>10.961538</td>\n",
       "    </tr>\n",
       "  </tbody>\n",
       "</table>\n",
       "</div>"
      ],
      "text/plain": [
       "           pickup_datetime     dropoff_datetime  pickup_lon  pickup_lat  \\\n",
       "48097  2016-01-26 21:41:50  2016-01-26 21:46:54  -73.991463   40.750259   \n",
       "67054  2016-01-06 14:04:49  2016-01-06 14:15:47  -73.985153   40.724312   \n",
       "74769  2016-01-15 07:27:42  2016-01-15 07:42:20  -73.984848   40.736263   \n",
       "6659   2016-01-13 19:59:47  2016-01-13 20:04:12  -73.977882   40.751259   \n",
       "76571  2016-01-14 10:36:45  2016-01-14 10:41:57  -73.981644   40.762459   \n",
       "\n",
       "       dropoff_lon  dropoff_lat  passengers  distance  duration        date  \\\n",
       "48097   -73.999443    40.738991           2      0.90       304  2016-01-26   \n",
       "67054   -73.996109    40.721199           1      0.90       658  2016-01-06   \n",
       "74769   -73.980537    40.763775           1      2.50       878  2016-01-15   \n",
       "6659    -73.980026    40.748573           1      0.50       265  2016-01-13   \n",
       "76571   -73.989738    40.751476           1      0.95       312  2016-01-14   \n",
       "\n",
       "                       pu  hour  day  weekend  period      speed  \n",
       "48097 2016-01-26 21:41:50    21    1        0       3  10.657895  \n",
       "67054 2016-01-06 14:04:49    14    2        0       2   4.924012  \n",
       "74769 2016-01-15 07:27:42     7    4        0       2  10.250569  \n",
       "6659  2016-01-13 19:59:47    19    2        0       3   6.792453  \n",
       "76571 2016-01-14 10:36:45    10    3        0       2  10.961538  "
      ]
     },
     "execution_count": 123,
     "metadata": {},
     "output_type": "execute_result"
    }
   ],
   "source": [
    "train = add_cols(train)\n",
    "test = add_cols(test)\n",
    "train.head()"
   ]
  },
  {
   "cell_type": "code",
   "execution_count": 124,
   "metadata": {},
   "outputs": [
    {
     "data": {
      "image/png": "[encoded data removed]",
      "text/plain": [
       "<Figure size 432x288 with 1 Axes>"
      ]
     },
     "metadata": {
      "needs_background": "light"
     },
     "output_type": "display_data"
    }
   ],
   "source": [
    "# Distribution of speed vs. time of day\n",
    "sns.distplot(train[train['period']==1]['speed'],label='Morning')\n",
    "sns.distplot(train[train['period']==2]['speed'],label='Day')\n",
    "sns.distplot(train[train['period']==3]['speed'],label='Night')\n",
    "plt.legend()\n",
    "plt.title('Dsitribution of speed for time of day');"
   ]
  },
  {
   "cell_type": "code",
   "execution_count": 125,
   "metadata": {},
   "outputs": [],
   "source": [
    "# Create region variable by using principal components analysis\n",
    "D = train[['pickup_lon','pickup_lat']].values\n",
    "pca_n = len(D)\n",
    "pca_means = np.mean(D, axis=0)\n",
    "X = (D - pca_means) / np.sqrt(pca_n)\n",
    "u, s, vt = np.linalg.svd(X, full_matrices=False)\n",
    "\n",
    "def add_region(df):\n",
    "    D = df[['pickup_lon','pickup_lat']].values\n",
    "    X = (D - np.mean(D, axis=0)) / np.sqrt(len(D)) \n",
    "    first_pc = X @ vt.T[:,0]\n",
    "    df.loc[:,'region'] = pd.qcut(first_pc, 3, labels=[0, 1, 2])\n",
    "    \n",
    "add_region(train)\n",
    "add_region(test)"
   ]
  },
  {
   "cell_type": "code",
   "execution_count": 133,
   "metadata": {},
   "outputs": [
    {
     "data": {
      "text/html": [
       "<div>\n",
       "<style scoped>\n",
       "    .dataframe tbody tr th:only-of-type {\n",
       "        vertical-align: middle;\n",
       "    }\n",
       "\n",
       "    .dataframe tbody tr th {\n",
       "        vertical-align: top;\n",
       "    }\n",
       "\n",
       "    .dataframe thead th {\n",
       "        text-align: right;\n",
       "    }\n",
       "</style>\n",
       "<table border=\"1\" class=\"dataframe\">\n",
       "  <thead>\n",
       "    <tr style=\"text-align: right;\">\n",
       "      <th></th>\n",
       "      <th>pickup_lon</th>\n",
       "      <th>pickup_lat</th>\n",
       "      <th>dropoff_lon</th>\n",
       "      <th>dropoff_lat</th>\n",
       "      <th>distance</th>\n",
       "      <th>hour_1</th>\n",
       "      <th>hour_2</th>\n",
       "      <th>hour_3</th>\n",
       "      <th>hour_4</th>\n",
       "      <th>hour_5</th>\n",
       "      <th>...</th>\n",
       "      <th>hour_22</th>\n",
       "      <th>hour_23</th>\n",
       "      <th>day_1</th>\n",
       "      <th>day_2</th>\n",
       "      <th>day_3</th>\n",
       "      <th>day_4</th>\n",
       "      <th>day_5</th>\n",
       "      <th>day_6</th>\n",
       "      <th>region_1</th>\n",
       "      <th>region_2</th>\n",
       "    </tr>\n",
       "  </thead>\n",
       "  <tbody>\n",
       "    <tr>\n",
       "      <th>48097</th>\n",
       "      <td>-0.634259</td>\n",
       "      <td>-0.208186</td>\n",
       "      <td>-1.119913</td>\n",
       "      <td>-0.725036</td>\n",
       "      <td>-0.678198</td>\n",
       "      <td>0</td>\n",
       "      <td>0</td>\n",
       "      <td>0</td>\n",
       "      <td>0</td>\n",
       "      <td>0</td>\n",
       "      <td>...</td>\n",
       "      <td>0</td>\n",
       "      <td>0</td>\n",
       "      <td>1</td>\n",
       "      <td>0</td>\n",
       "      <td>0</td>\n",
       "      <td>0</td>\n",
       "      <td>0</td>\n",
       "      <td>0</td>\n",
       "      <td>1</td>\n",
       "      <td>0</td>\n",
       "    </tr>\n",
       "    <tr>\n",
       "      <th>67054</th>\n",
       "      <td>-0.242904</td>\n",
       "      <td>-1.425065</td>\n",
       "      <td>-0.926824</td>\n",
       "      <td>-1.470150</td>\n",
       "      <td>-0.678198</td>\n",
       "      <td>0</td>\n",
       "      <td>0</td>\n",
       "      <td>0</td>\n",
       "      <td>0</td>\n",
       "      <td>0</td>\n",
       "      <td>...</td>\n",
       "      <td>0</td>\n",
       "      <td>0</td>\n",
       "      <td>0</td>\n",
       "      <td>1</td>\n",
       "      <td>0</td>\n",
       "      <td>0</td>\n",
       "      <td>0</td>\n",
       "      <td>0</td>\n",
       "      <td>0</td>\n",
       "      <td>0</td>\n",
       "    </tr>\n",
       "    <tr>\n",
       "      <th>74769</th>\n",
       "      <td>-0.223975</td>\n",
       "      <td>-0.864571</td>\n",
       "      <td>-0.025003</td>\n",
       "      <td>0.312915</td>\n",
       "      <td>0.443895</td>\n",
       "      <td>0</td>\n",
       "      <td>0</td>\n",
       "      <td>0</td>\n",
       "      <td>0</td>\n",
       "      <td>0</td>\n",
       "      <td>...</td>\n",
       "      <td>0</td>\n",
       "      <td>0</td>\n",
       "      <td>0</td>\n",
       "      <td>0</td>\n",
       "      <td>0</td>\n",
       "      <td>1</td>\n",
       "      <td>0</td>\n",
       "      <td>0</td>\n",
       "      <td>0</td>\n",
       "      <td>0</td>\n",
       "    </tr>\n",
       "    <tr>\n",
       "      <th>6659</th>\n",
       "      <td>0.208076</td>\n",
       "      <td>-0.161314</td>\n",
       "      <td>0.004601</td>\n",
       "      <td>-0.323723</td>\n",
       "      <td>-0.958721</td>\n",
       "      <td>0</td>\n",
       "      <td>0</td>\n",
       "      <td>0</td>\n",
       "      <td>0</td>\n",
       "      <td>0</td>\n",
       "      <td>...</td>\n",
       "      <td>0</td>\n",
       "      <td>0</td>\n",
       "      <td>0</td>\n",
       "      <td>1</td>\n",
       "      <td>0</td>\n",
       "      <td>0</td>\n",
       "      <td>0</td>\n",
       "      <td>0</td>\n",
       "      <td>1</td>\n",
       "      <td>0</td>\n",
       "    </tr>\n",
       "    <tr>\n",
       "      <th>76571</th>\n",
       "      <td>-0.025222</td>\n",
       "      <td>0.363938</td>\n",
       "      <td>-0.557877</td>\n",
       "      <td>-0.202147</td>\n",
       "      <td>-0.643132</td>\n",
       "      <td>0</td>\n",
       "      <td>0</td>\n",
       "      <td>0</td>\n",
       "      <td>0</td>\n",
       "      <td>0</td>\n",
       "      <td>...</td>\n",
       "      <td>0</td>\n",
       "      <td>0</td>\n",
       "      <td>0</td>\n",
       "      <td>0</td>\n",
       "      <td>1</td>\n",
       "      <td>0</td>\n",
       "      <td>0</td>\n",
       "      <td>0</td>\n",
       "      <td>1</td>\n",
       "      <td>0</td>\n",
       "    </tr>\n",
       "  </tbody>\n",
       "</table>\n",
       "<p>5 rows × 36 columns</p>\n",
       "</div>"
      ],
      "text/plain": [
       "       pickup_lon  pickup_lat  dropoff_lon  dropoff_lat  distance  hour_1  \\\n",
       "48097   -0.634259   -0.208186    -1.119913    -0.725036 -0.678198       0   \n",
       "67054   -0.242904   -1.425065    -0.926824    -1.470150 -0.678198       0   \n",
       "74769   -0.223975   -0.864571    -0.025003     0.312915  0.443895       0   \n",
       "6659     0.208076   -0.161314     0.004601    -0.323723 -0.958721       0   \n",
       "76571   -0.025222    0.363938    -0.557877    -0.202147 -0.643132       0   \n",
       "\n",
       "       hour_2  hour_3  hour_4  hour_5  ...  hour_22  hour_23  day_1  day_2  \\\n",
       "48097       0       0       0       0  ...        0        0      1      0   \n",
       "67054       0       0       0       0  ...        0        0      0      1   \n",
       "74769       0       0       0       0  ...        0        0      0      0   \n",
       "6659        0       0       0       0  ...        0        0      0      1   \n",
       "76571       0       0       0       0  ...        0        0      0      0   \n",
       "\n",
       "       day_3  day_4  day_5  day_6  region_1  region_2  \n",
       "48097      0      0      0      0         1         0  \n",
       "67054      0      0      0      0         0         0  \n",
       "74769      0      1      0      0         0         0  \n",
       "6659       0      0      0      0         1         0  \n",
       "76571      1      0      0      0         1         0  \n",
       "\n",
       "[5 rows x 36 columns]"
      ]
     },
     "execution_count": 133,
     "metadata": {},
     "output_type": "execute_result"
    }
   ],
   "source": [
    "# Create X matrix\n",
    "from sklearn.preprocessing import StandardScaler\n",
    "\n",
    "numerical = ['pickup_lon', 'pickup_lat', 'dropoff_lon', 'dropoff_lat', 'distance']\n",
    "categorical = ['hour', 'day', 'region']\n",
    "\n",
    "# Standardize numerical values\n",
    "scaler = StandardScaler()\n",
    "scaler.fit(train[numerical])\n",
    "\n",
    "def create_X(df):\n",
    "    scaled = df[numerical].copy()\n",
    "    scaled.iloc[:,:] = scaler.transform(scaled) # Convert to standard units\n",
    "    categoricals = [pd.get_dummies(df[cat], prefix=cat, drop_first=True) for cat in categorical]\n",
    "    return pd.concat([scaled] + categoricals, axis=1)\n",
    "\n",
    "X_train = create_X(train)\n",
    "X_train.head()"
   ]
  },
  {
   "cell_type": "markdown",
   "metadata": {},
   "source": [
    "## Model Selection"
   ]
  },
  {
   "cell_type": "code",
   "execution_count": 134,
   "metadata": {},
   "outputs": [
    {
     "data": {
      "text/plain": [
       "408.74029938088626"
      ]
     },
     "execution_count": 134,
     "metadata": {},
     "output_type": "execute_result"
    }
   ],
   "source": [
    "# Baseline - constant model\n",
    "from sklearn.metrics import mean_squared_error\n",
    "constant_rmse = np.sqrt(mean_squared_error(test['duration'], [test['duration'].mean()]*len(test)))\n",
    "constant_rmse"
   ]
  },
  {
   "cell_type": "code",
   "execution_count": 139,
   "metadata": {},
   "outputs": [
    {
     "data": {
      "text/plain": [
       "265.3105280651001"
      ]
     },
     "execution_count": 139,
     "metadata": {},
     "output_type": "execute_result"
    }
   ],
   "source": [
    "# Linear regression\n",
    "from sklearn.linear_model import LinearRegression\n",
    "reg = LinearRegression()\n",
    "y_train=train['duration']\n",
    "\n",
    "reg.fit(X_train,y_train)\n",
    "y_ln_predict=reg.predict(X_test)\n",
    "linear_rmse = np.sqrt(mean_squared_error(test['duration'],y_ln_predict))\n",
    "linear_rmse"
   ]
  },
  {
   "cell_type": "code",
   "execution_count": 147,
   "metadata": {},
   "outputs": [
    {
     "data": {
      "text/plain": [
       "257.61714647505653"
      ]
     },
     "execution_count": 147,
     "metadata": {},
     "output_type": "execute_result"
    }
   ],
   "source": [
    "# Linear regression with models fit on different periods\n",
    "model = LinearRegression()\n",
    "errors = []\n",
    "\n",
    "for period in np.unique(train['period']):\n",
    "    train_sample=train[train['period']==period]\n",
    "    model.fit(design_matrix(train_sample),train_sample['duration'])\n",
    "    test_sample = test[test['period']==period]\n",
    "    y_predict=model.predict(design_matrix(test_sample))\n",
    "    errors.extend(test_sample['duration']-y_predict)\n",
    "\n",
    "period_rmse = np.sqrt(np.mean(np.array(errors)**2))\n",
    "period_rmse"
   ]
  },
  {
   "cell_type": "code",
   "execution_count": 149,
   "metadata": {},
   "outputs": [
    {
     "data": {
      "text/plain": [
       "252.13195923850276"
      ]
     },
     "execution_count": 149,
     "metadata": {},
     "output_type": "execute_result"
    }
   ],
   "source": [
    "# Predict speed then use it to predict duration + distance\n",
    "reg = LinearRegression()\n",
    "x_train = design_matrix(train)\n",
    "y_train = train['speed']\n",
    "reg.fit(x_train, y_train)\n",
    "speed_prediction = reg.predict(design_matrix(test))\n",
    "y_pred_speed = (test['distance']/speed_prediction)*60*60\n",
    "speed_rmse = np.sqrt(mean_squared_error(test['duration'],y_pred_speed))\n",
    "speed_rmse"
   ]
  },
  {
   "cell_type": "code",
   "execution_count": 152,
   "metadata": {},
   "outputs": [
    {
     "data": {
      "text/plain": [
       "[(1, 'period'), (0, 'region'), (0, 'weekend')]"
      ]
     },
     "execution_count": 152,
     "metadata": {},
     "output_type": "execute_result"
    }
   ],
   "source": [
    "choices = ['period', 'region', 'weekend']\n",
    "temp = list(zip(train.groupby(choices).size().index[0], choices))\n",
    "temp"
   ]
  },
  {
   "cell_type": "code",
   "execution_count": 155,
   "metadata": {},
   "outputs": [
    {
     "data": {
      "text/plain": [
       "period  region  weekend\n",
       "1       0       0           1148\n",
       "                1           1643\n",
       "        1       0            873\n",
       "                1            644\n",
       "        2       0            523\n",
       "                1            393\n",
       "2       0       0           7139\n",
       "                1           2226\n",
       "        1       0           8514\n",
       "                1           2179\n",
       "        2       0          10095\n",
       "                1           2726\n",
       "3       0       0           5393\n",
       "                1           1681\n",
       "        1       0           5654\n",
       "                1           1365\n",
       "        2       0           4311\n",
       "                1           1182\n",
       "dtype: int64"
      ]
     },
     "execution_count": 155,
     "metadata": {},
     "output_type": "execute_result"
    }
   ],
   "source": [
    "train.groupby(choices).size()"
   ]
  },
  {
   "cell_type": "code",
   "execution_count": 164,
   "metadata": {},
   "outputs": [
    {
     "name": "stdout",
     "output_type": "stream",
     "text": [
      "1 period\n",
      "0 region\n",
      "0 weekend\n"
     ]
    }
   ],
   "source": [
    "for c,v in zip(train.groupby(choices).size().index[0], choices):\n",
    "    print(c,v)"
   ]
  },
  {
   "cell_type": "code",
   "execution_count": 166,
   "metadata": {},
   "outputs": [
    {
     "name": "stdout",
     "output_type": "stream",
     "text": [
      "Duration: 251.03043521792492 \n",
      "Speed: 235.8373632701343\n"
     ]
    }
   ],
   "source": [
    "model = LinearRegression()\n",
    "variables = ['period', 'region', 'weekend']\n",
    "\n",
    "def duration_error(predictions, observations):\n",
    "    return predictions - observations['duration']\n",
    "\n",
    "def speed_error(predictions, observations):\n",
    "    speed_predictions=predictions/3600\n",
    "    return duration_error(observations['distance']/speed_predictions,observations)\n",
    "\n",
    "def tree_regression_errors(outcome='duration', error_fn=duration_error):\n",
    "    errors = []\n",
    "    # Loop through all possible combination of variables\n",
    "    for idx in train.groupby(variables).size().index:\n",
    "        train_temp, test_temp = train.copy(), test.copy()\n",
    "        for number, feature in zip(idx, variables):\n",
    "            train_temp = train_temp[train_temp[feature]==number]\n",
    "            test_temp = test_temp[test_temp[feature]==number]\n",
    "        model.fit(design_matrix(train_temp),train_temp[outcome])       \n",
    "        y_pred=model.predict(design_matrix(test_temp))\n",
    "        error=error_fn(y_pred,test_temp)\n",
    "        errors.extend(error)\n",
    "    return errors\n",
    "\n",
    "errors = tree_regression_errors()\n",
    "errors_via_speed = tree_regression_errors('speed', speed_error)\n",
    "tree_rmse = rmse(np.array(errors))\n",
    "tree_speed_rmse = rmse(np.array(errors_via_speed))\n",
    "print('Duration:', tree_rmse, '\\nSpeed:', tree_speed_rmse)"
   ]
  },
  {
   "cell_type": "code",
   "execution_count": 167,
   "metadata": {},
   "outputs": [
    {
     "data": {
      "image/png": "[encoded data removed]",
      "text/plain": [
       "<Figure size 432x288 with 1 Axes>"
      ]
     },
     "metadata": {
      "needs_background": "light"
     },
     "output_type": "display_data"
    }
   ],
   "source": [
    "models = ['constant', 'simple', 'linear', 'period', 'speed', 'tree', 'tree_speed']\n",
    "pd.DataFrame.from_dict({\n",
    "    'Model': models,\n",
    "    'Test RMSE': [eval(m + '_rmse') for m in models]\n",
    "}).set_index('Model').plot(kind='barh');"
   ]
  },
  {
   "cell_type": "code",
   "execution_count": null,
   "metadata": {},
   "outputs": [],
   "source": [
    "# Tree model based on speed predictions performed the best"
   ]
  }
 ],
 "metadata": {
  "kernelspec": {
   "display_name": "Python 3",
   "language": "python",
   "name": "python3"
  },
  "language_info": {
   "codemirror_mode": {
    "name": "ipython",
    "version": 3
   },
   "file_extension": ".py",
   "mimetype": "text/x-python",
   "name": "python",
   "nbconvert_exporter": "python",
   "pygments_lexer": "ipython3",
   "version": "3.7.6"
  }
 },
 "nbformat": 4,
 "nbformat_minor": 4
}
